{
 "cells": [
  {
   "cell_type": "markdown",
   "metadata": {},
   "source": [
    "# U.S. Medical Insurance Costs"
   ]
  },
  {
   "cell_type": "markdown",
   "metadata": {},
   "source": [
    "# 1. Look over your dataset\n",
    "\n",
    "Download a zip file here with the necessary datasets and an empty Jupyter Notebook where you can write your code.\n",
    "\n",
    "Open insurance.csv and take a look at the file. Take note of how information is organized. How will this affect how you analyze the data in Python? Is there anything of particular interest to you in the dataset that you want to investigate? Think about these things before you jump into analyzing it.\n"
   ]
  },
  {
   "cell_type": "markdown",
   "metadata": {},
   "source": [
    "* The data in the csv file is organized as a table: information of each person is stored in a row with 7 attributes in the columns:\n",
    "\n",
    "    age, sex, bmi, children, smoker, region, charges\n",
    "    \n",
    "* Some of the columns are categorical (sex, smoker, region) while other are numerical (age: int, bmi: float, children: int, charges: float), all numbers are positive.\n",
    "    \n",
    "* There is no missing data\n",
    "\n",
    "A library reading .csv files will be useful for importing the data. It would make sense to store the data in a dictionary with keys named according to the columns (variables) and values containing the list of all observations for each variable.\n",
    "\n",
    "It would be intersting to know how much each of the 6 features - age, sex, BMI, number of children, whether the person smokes and region of residence - affects the charges (how much does the person pay for the medical insurance). But it is out of scope for now, we could go back to this question after we covered visualization and prediction (linear regression).\n"
   ]
  },
  {
   "cell_type": "markdown",
   "metadata": {},
   "source": [
    "# 2. Scoping Your Project\n",
    "\n",
    "Now that you have looked over your dataset, plan out what you want to analyze. What is it that you want to find out about this dataset? Based on the way information is organized, certain inspections may be easier to perform than others. As you map out the process, consider the scope of your analysis as well.\n",
    "\n",
    "Properly scoping your project will greatly benefit you; scoping creates structure while requiring you to think through your entire project before you begin. You should start by stating the goals for your project, then gathering the data, and considering the analytical steps required. A proper project scope can be a great road map for your project, but keep in mind that some down-stream tasks may become dead ends which will require adjustment to the scope. "
   ]
  },
  {
   "cell_type": "markdown",
   "metadata": {},
   "source": [
    "We want to analyze the population itself and answer the following questions:\n",
    "* Are people more likely to be healthy (no smoking, normal BMI) at younger age or older, with children or without them, if they are male or female?\n",
    "\n",
    "    * Children vs. smoker - Are people more likely to be smokers with children or not?\n",
    "    * Sex vs. smoker - Are females more likely to be smokers than males?\n",
    "    * Age vs. smoker - which part of the population smokes the most? At what age do they usually start?\n",
    "    * BMI vs. age - How does BMI distribution looks like for different age groups? Does BMI increase with age?\n",
    "    * BMI vs. sex - How does BMI distribution looks like for males and for females? Which sex is more predisposed to obesity?\n",
    "    * BMI vs. smoker - Do smokers have a lower BMI than non-smokers?\n",
    "    * BMI vs. children - Does BMI increase with the number of children?\n",
    "    \n",
    "Since BMI and age variables are numerical, we should subdivide them into a few categories to simplify the analysis (since we decided to investigate the data without plotting)."
   ]
  },
  {
   "cell_type": "markdown",
   "metadata": {},
   "source": [
    "# 3. Import your dataset\n",
    "\n",
    "Import insurance.csv into your Python file and inspect the contents.\n"
   ]
  },
  {
   "cell_type": "code",
   "execution_count": 100,
   "metadata": {},
   "outputs": [
    {
     "name": "stdout",
     "output_type": "stream",
     "text": [
      "insurance.csv  LICENSE  README.md  us-medical-insurance-costs.ipynb\r\n"
     ]
    }
   ],
   "source": [
    "%ls"
   ]
  },
  {
   "cell_type": "code",
   "execution_count": 101,
   "metadata": {},
   "outputs": [
    {
     "name": "stdout",
     "output_type": "stream",
     "text": [
      "age: 1338\n",
      "sex: 1338\n",
      "bmi: 1338\n",
      "children: 1338\n",
      "smoker: 1338\n",
      "region: 1338\n",
      "charges: 1338\n"
     ]
    }
   ],
   "source": [
    "import csv\n",
    "dataset = {}\n",
    "with open(\"insurance.csv\", newline='') as insurance_csv:\n",
    "    dict_reader = csv.DictReader(insurance_csv) # converts the lines of our CSV file to Python dictionaries\n",
    "    column_names = dict_reader.fieldnames\n",
    "    for column_name in column_names:\n",
    "        dataset[column_name] = []\n",
    "    for row in dict_reader:\n",
    "        # row is an ordered dictionary entry containing a tuple with the column heading and the data for each observation\n",
    "        # key is the column heading and the value is data at each observation\n",
    "        for key, value in row.items():\n",
    "            dataset[key].append(value)\n",
    "# test\n",
    "for key, value in dataset.items():\n",
    "    print(\"{}: {}\".format(key, len(value)))"
   ]
  },
  {
   "cell_type": "code",
   "execution_count": 102,
   "metadata": {},
   "outputs": [],
   "source": [
    "#print(dataset)"
   ]
  },
  {
   "cell_type": "markdown",
   "metadata": {},
   "source": [
    "# 4. Save your dataset via Python variables\n",
    "\n",
    "Save the features of your dataset (the columns) from insurance.csv by storing them in variables that can be used for analysis. As you consider what types of variables to use and how many you plan to create, think ahead about the parameters you wish to investigate and how your organization will impact this analysis."
   ]
  },
  {
   "cell_type": "code",
   "execution_count": null,
   "metadata": {},
   "outputs": [],
   "source": []
  },
  {
   "cell_type": "markdown",
   "metadata": {},
   "source": [
    "# 5. Build out analysis functions or class methods\n",
    "\n",
    "You now have everything you need to begin your analysis. You have organized the information from insurance.csv and have spent some time thinking about what it is you would like to investigate.\n",
    "\n",
    "Now is the time to build out how you perform these investigations. Use the Python fundamentals you have learned so far to accomplish these tasks. There are many different ways you can achieve these analyses. In our hint, we will provide some ideas for how you can use Python to analyze data."
   ]
  },
  {
   "cell_type": "code",
   "execution_count": 103,
   "metadata": {},
   "outputs": [],
   "source": [
    "def variable_count(data, variable_key): # data is dataset, variable_key is the column you want to count\n",
    "    count_dict = {}\n",
    "    for i in range(len(data[variable_key])):\n",
    "        if data[variable_key][i] not in count_dict:\n",
    "            count_dict[data[variable_key][i]] = 1\n",
    "        else:\n",
    "            count_dict[data[variable_key][i]] += 1\n",
    "    return count_dict"
   ]
  },
  {
   "cell_type": "code",
   "execution_count": 104,
   "metadata": {},
   "outputs": [],
   "source": [
    "def get_tuple_list(data, key1, key2):\n",
    "    return list(zip(data[key1], data[key2]))"
   ]
  },
  {
   "cell_type": "markdown",
   "metadata": {},
   "source": [
    "# Investigating smokers vs sex\n",
    "\n",
    "The purpose of the investigation is to find out the percentage of female and male smokers in the population and whether females or males are more likely to be smokers."
   ]
  },
  {
   "cell_type": "code",
   "execution_count": 105,
   "metadata": {},
   "outputs": [],
   "source": [
    "#function for counting smokers vs other keys i.e. columns\n",
    "#data is tthe tuple_list, key2 the key we want to count by, smoker_dict is the dictionary we want to put the findings into\n",
    "def smoker_count(data, key2, smoker_dict):\n",
    "    for item in data:\n",
    "        if item[0] == 'yes':\n",
    "            if item[1] not in smoker_dict:\n",
    "                smoker_dict[item[1]] = 1\n",
    "            else:\n",
    "                smoker_dict[item[1]] += 1\n",
    "    return smoker_dict"
   ]
  },
  {
   "cell_type": "code",
   "execution_count": 106,
   "metadata": {},
   "outputs": [],
   "source": [
    "data = get_tuple_list(dataset, 'smoker', 'sex')\n",
    "#data"
   ]
  },
  {
   "cell_type": "code",
   "execution_count": 107,
   "metadata": {},
   "outputs": [
    {
     "data": {
      "text/plain": [
       "{'female': 115, 'male': 159}"
      ]
     },
     "execution_count": 107,
     "metadata": {},
     "output_type": "execute_result"
    }
   ],
   "source": [
    "sex_smoker = {}\n",
    "smoker_count(data, 'sex', sex_smoker)"
   ]
  },
  {
   "cell_type": "code",
   "execution_count": 108,
   "metadata": {},
   "outputs": [
    {
     "data": {
      "text/plain": [
       "{'female': 662, 'male': 676}"
      ]
     },
     "execution_count": 108,
     "metadata": {},
     "output_type": "execute_result"
    }
   ],
   "source": [
    "num_sex = variable_count(dataset, 'sex')\n",
    "num_sex"
   ]
  },
  {
   "cell_type": "code",
   "execution_count": 109,
   "metadata": {},
   "outputs": [
    {
     "name": "stdout",
     "output_type": "stream",
     "text": [
      "17.37% of the females is a smoker.\n",
      "23.52% of the males is a smoker.\n"
     ]
    }
   ],
   "source": [
    "for key in num_sex.keys():\n",
    "    percentage = sex_smoker.get(key) / num_sex.get(key) * 100\n",
    "    print(\"{percentage}% of the {sex}s is a smoker.\".format(percentage = round(percentage,2), sex = key))"
   ]
  },
  {
   "cell_type": "markdown",
   "metadata": {},
   "source": [
    "# Investigating percentage of smokers with children\n",
    "\n",
    "The purpose of the comparison is to find out whether people with one or more children are more or less likely to be smokers.\n"
   ]
  },
  {
   "cell_type": "code",
   "execution_count": 110,
   "metadata": {},
   "outputs": [],
   "source": [
    "data = get_tuple_list(dataset, 'smoker', 'children')\n",
    "#data"
   ]
  },
  {
   "cell_type": "code",
   "execution_count": 111,
   "metadata": {},
   "outputs": [
    {
     "data": {
      "text/plain": [
       "{'0': 574, '1': 324, '3': 157, '2': 240, '5': 18, '4': 25}"
      ]
     },
     "execution_count": 111,
     "metadata": {},
     "output_type": "execute_result"
    }
   ],
   "source": [
    "num_children = variable_count(dataset, 'children')\n",
    "num_children"
   ]
  },
  {
   "cell_type": "code",
   "execution_count": 112,
   "metadata": {},
   "outputs": [
    {
     "data": {
      "text/plain": [
       "{'yes': 274, 'no': 1064}"
      ]
     },
     "execution_count": 112,
     "metadata": {},
     "output_type": "execute_result"
    }
   ],
   "source": [
    "num_smoker = variable_count(dataset, 'smoker')\n",
    "num_smoker"
   ]
  },
  {
   "cell_type": "code",
   "execution_count": 113,
   "metadata": {},
   "outputs": [
    {
     "data": {
      "text/plain": [
       "{'0': 115, '1': 61, '2': 55, '3': 39, '4': 3, '5': 1}"
      ]
     },
     "execution_count": 113,
     "metadata": {},
     "output_type": "execute_result"
    }
   ],
   "source": [
    "children_smoker = {}\n",
    "children_smoker = smoker_count(data, 'children', children_smoker)\n",
    "children_smoker"
   ]
  },
  {
   "cell_type": "code",
   "execution_count": 114,
   "metadata": {},
   "outputs": [
    {
     "name": "stdout",
     "output_type": "stream",
     "text": [
      "41.97% of the smokers is with 0 children. \n",
      "22.26% of the smokers is with 1 children. \n",
      "20.07% of the smokers is with 2 children. \n",
      "14.23% of the smokers is with 3 children. \n",
      "1.09% of the smokers is with 4 children. \n",
      "0.36% of the smokers is with 5 children. \n"
     ]
    }
   ],
   "source": [
    "#percentage\n",
    "for key in children_smoker.keys():\n",
    "    percentage = children_smoker[key] / num_smoker['yes'] * 100\n",
    "    print(\"{percentage}% of the smokers is with {children} children. \".format(percentage = round(percentage,2), children = key))"
   ]
  },
  {
   "cell_type": "code",
   "execution_count": 115,
   "metadata": {},
   "outputs": [
    {
     "name": "stdout",
     "output_type": "stream",
     "text": [
      "58.03 % of smokers have at least one child.\n"
     ]
    }
   ],
   "source": [
    "total_children_smoker = num_smoker['yes'] - children_smoker['0']\n",
    "percent_total = total_children_smoker / num_smoker['yes'] * 100\n",
    "print('{percentage} % of smokers have at least one child.'.format(percentage = round(percent_total,2)))"
   ]
  },
  {
   "cell_type": "markdown",
   "metadata": {},
   "source": [
    "# Conclusions\n",
    "\n",
    "There was no significant difference between the quantity of smokers among females (17%) and males (24%).\n",
    "\n",
    "Surprisingly, smokers were more likely to have at least one child (58% of the smokers) which is a significant difference compared to the childless smokers (42% of the smokers). Parents should be educated about the effects on passive smoking on children's health and how important being a role model is. The more children a parent had, he/she was less likely to be a smoker, but also because there were only a few people with 4+ children (43 people out of 1338).\n"
   ]
  },
  {
   "cell_type": "markdown",
   "metadata": {},
   "source": [
    "# 6. Project Extensions\n",
    "\n",
    "You’re welcome to expand your analysis beyond what you have already done! Some potential extra features to add to your portfolio project are the following:\n",
    "\n",
    "* Organize your findings into dictionaries, lists, or another convenient datatype.\n",
    "* Make predictions about what features are the most influential for an individual’s medical insurance charges based on your analysis.\n",
    "* Explore areas where the data may include bias and how that would impact potential use cases.\n",
    "\n",
    "Congrats on completing your portfolio project!\n"
   ]
  },
  {
   "cell_type": "code",
   "execution_count": null,
   "metadata": {},
   "outputs": [],
   "source": []
  }
 ],
 "metadata": {
  "kernelspec": {
   "display_name": "Python 3 (ipykernel)",
   "language": "python",
   "name": "python3"
  },
  "language_info": {
   "codemirror_mode": {
    "name": "ipython",
    "version": 3
   },
   "file_extension": ".py",
   "mimetype": "text/x-python",
   "name": "python",
   "nbconvert_exporter": "python",
   "pygments_lexer": "ipython3",
   "version": "3.9.7"
  }
 },
 "nbformat": 4,
 "nbformat_minor": 4
}

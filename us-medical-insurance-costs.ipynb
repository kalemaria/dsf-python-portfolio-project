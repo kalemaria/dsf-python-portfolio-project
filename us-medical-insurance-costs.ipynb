{
 "cells": [
  {
   "cell_type": "markdown",
   "metadata": {},
   "source": [
    "# U.S. Medical Insurance Costs"
   ]
  },
  {
   "cell_type": "markdown",
   "metadata": {},
   "source": [
    "# 1. Look over your dataset\n",
    "\n",
    "Download a zip file here with the necessary datasets and an empty Jupyter Notebook where you can write your code.\n",
    "\n",
    "Open insurance.csv and take a look at the file. Take note of how information is organized. How will this affect how you analyze the data in Python? Is there anything of particular interest to you in the dataset that you want to investigate? Think about these things before you jump into analyzing it.\n"
   ]
  },
  {
   "cell_type": "markdown",
   "metadata": {},
   "source": [
    "* The data in the csv file is organized as a table: information of each person is stored in a row with 7 attributes in the columns:\n",
    "\n",
    "    age, sex, bmi, children, smoker, region, charges\n",
    "    \n",
    "* Some of the columns are categorical (sex, smoker, region) while other are numerical (age: int, bmi: float, children: int, charges: float), all numbers are positive.\n",
    "    \n",
    "* There is no missing data\n",
    "\n",
    "A library reading .csv files will be useful for importing the data. It would make sense to store the data in a dictionary with keys named according to the columns (variables) and values containing the list of all observations for each variable.\n",
    "\n",
    "It would be intersting to know how much each of the 6 features - age, sex, BMI, number of children, whether the person smokes and region of residence - affects the charges (how much does the person pay for the medical insurance). But it is out of scope for now, we could go back to this question after we covered visualization and prediction (linear regression).\n"
   ]
  },
  {
   "cell_type": "markdown",
   "metadata": {},
   "source": [
    "# 2. Scoping Your Project\n",
    "\n",
    "Now that you have looked over your dataset, plan out what you want to analyze. What is it that you want to find out about this dataset? Based on the way information is organized, certain inspections may be easier to perform than others. As you map out the process, consider the scope of your analysis as well.\n",
    "\n",
    "Properly scoping your project will greatly benefit you; scoping creates structure while requiring you to think through your entire project before you begin. You should start by stating the goals for your project, then gathering the data, and considering the analytical steps required. A proper project scope can be a great road map for your project, but keep in mind that some down-stream tasks may become dead ends which will require adjustment to the scope. "
   ]
  },
  {
   "cell_type": "markdown",
   "metadata": {},
   "source": [
    "We want to analyze the population itself and answer the following questions:\n",
    "* Are people more likely to be healthy (no smoking, normal BMI) at younger age or older, with children or without them, if they are male or female?\n",
    "\n",
    "    * Children vs. smoker - Are people more likely to be smokers with children or not?\n",
    "    * Sex vs. smoker - Are females more likely to be smokers than males?\n",
    "    * Age vs. smoker - which part of the population smokes the most? At what age do they usually start?\n",
    "    * BMI vs. age - How does BMI distribution looks like for different age groups? Does BMI increase with age?\n",
    "    * BMI vs. sex - How does BMI distribution looks like for males and for females? Which sex is more predisposed to obesity?\n",
    "    * BMI vs. smoker - Do smokers have a higher BMI than non-smokers?\n",
    "    * BMI vs. children - Does BMI increase with the number of children?\n",
    "    \n",
    "Since BMI and age variables are numerical, we should subdivide them into a few categories to simplify the analysis (since we decided to investigate the data without plotting)."
   ]
  },
  {
   "cell_type": "markdown",
   "metadata": {},
   "source": [
    "# 3. Import your dataset\n",
    "\n",
    "Import insurance.csv into your Python file and inspect the contents.\n"
   ]
  },
  {
   "cell_type": "code",
   "execution_count": 49,
   "metadata": {},
   "outputs": [
    {
     "name": "stdout",
     "output_type": "stream",
     "text": [
      "insurance.csv  LICENSE  README.md  us-medical-insurance-costs.ipynb\r\n"
     ]
    }
   ],
   "source": [
    "%ls"
   ]
  },
  {
   "cell_type": "code",
   "execution_count": 50,
   "metadata": {},
   "outputs": [
    {
     "name": "stdout",
     "output_type": "stream",
     "text": [
      "age: 1338\n",
      "sex: 1338\n",
      "bmi: 1338\n",
      "children: 1338\n",
      "smoker: 1338\n",
      "region: 1338\n",
      "charges: 1338\n"
     ]
    }
   ],
   "source": [
    "import csv\n",
    "dataset = {}\n",
    "with open(\"insurance.csv\", newline='') as insurance_csv:\n",
    "    dict_reader = csv.DictReader(insurance_csv) # converts the lines of our CSV file to Python dictionaries\n",
    "    column_names = dict_reader.fieldnames\n",
    "    for column_name in column_names:\n",
    "        dataset[column_name] = []\n",
    "    for row in dict_reader:\n",
    "        # row is an ordered dictionary entry containing a tuple with the column heading and the data for each observation\n",
    "        # key is the column heading and the value is data at each observation\n",
    "        for key, value in row.items():\n",
    "            dataset[key].append(value)\n",
    "# test\n",
    "for key, value in dataset.items():\n",
    "    print(\"{}: {}\".format(key, len(value)))"
   ]
  },
  {
   "cell_type": "markdown",
   "metadata": {},
   "source": [
    "### Using Pandas\n",
    "Borrowed from rj-pal"
   ]
  },
  {
   "cell_type": "code",
   "execution_count": 51,
   "metadata": {},
   "outputs": [],
   "source": [
    "import pandas as pd"
   ]
  },
  {
   "cell_type": "code",
   "execution_count": 52,
   "metadata": {},
   "outputs": [],
   "source": [
    "data = pd.read_csv('insurance.csv')"
   ]
  },
  {
   "cell_type": "code",
   "execution_count": 53,
   "metadata": {},
   "outputs": [
    {
     "name": "stdout",
     "output_type": "stream",
     "text": [
      "<class 'pandas.core.frame.DataFrame'>\n",
      "RangeIndex: 1338 entries, 0 to 1337\n",
      "Data columns (total 7 columns):\n",
      " #   Column    Non-Null Count  Dtype  \n",
      "---  ------    --------------  -----  \n",
      " 0   age       1338 non-null   int64  \n",
      " 1   sex       1338 non-null   object \n",
      " 2   bmi       1338 non-null   float64\n",
      " 3   children  1338 non-null   int64  \n",
      " 4   smoker    1338 non-null   object \n",
      " 5   region    1338 non-null   object \n",
      " 6   charges   1338 non-null   float64\n",
      "dtypes: float64(2), int64(2), object(3)\n",
      "memory usage: 73.3+ KB\n"
     ]
    }
   ],
   "source": [
    "data.info()"
   ]
  },
  {
   "cell_type": "code",
   "execution_count": 54,
   "metadata": {},
   "outputs": [
    {
     "data": {
      "text/html": [
       "<div>\n",
       "<style scoped>\n",
       "    .dataframe tbody tr th:only-of-type {\n",
       "        vertical-align: middle;\n",
       "    }\n",
       "\n",
       "    .dataframe tbody tr th {\n",
       "        vertical-align: top;\n",
       "    }\n",
       "\n",
       "    .dataframe thead th {\n",
       "        text-align: right;\n",
       "    }\n",
       "</style>\n",
       "<table border=\"1\" class=\"dataframe\">\n",
       "  <thead>\n",
       "    <tr style=\"text-align: right;\">\n",
       "      <th></th>\n",
       "      <th>age</th>\n",
       "      <th>bmi</th>\n",
       "      <th>children</th>\n",
       "      <th>charges</th>\n",
       "    </tr>\n",
       "  </thead>\n",
       "  <tbody>\n",
       "    <tr>\n",
       "      <th>count</th>\n",
       "      <td>1338.000000</td>\n",
       "      <td>1338.000000</td>\n",
       "      <td>1338.000000</td>\n",
       "      <td>1338.000000</td>\n",
       "    </tr>\n",
       "    <tr>\n",
       "      <th>mean</th>\n",
       "      <td>39.207025</td>\n",
       "      <td>30.663397</td>\n",
       "      <td>1.094918</td>\n",
       "      <td>13270.422265</td>\n",
       "    </tr>\n",
       "    <tr>\n",
       "      <th>std</th>\n",
       "      <td>14.049960</td>\n",
       "      <td>6.098187</td>\n",
       "      <td>1.205493</td>\n",
       "      <td>12110.011237</td>\n",
       "    </tr>\n",
       "    <tr>\n",
       "      <th>min</th>\n",
       "      <td>18.000000</td>\n",
       "      <td>15.960000</td>\n",
       "      <td>0.000000</td>\n",
       "      <td>1121.873900</td>\n",
       "    </tr>\n",
       "    <tr>\n",
       "      <th>25%</th>\n",
       "      <td>27.000000</td>\n",
       "      <td>26.296250</td>\n",
       "      <td>0.000000</td>\n",
       "      <td>4740.287150</td>\n",
       "    </tr>\n",
       "    <tr>\n",
       "      <th>50%</th>\n",
       "      <td>39.000000</td>\n",
       "      <td>30.400000</td>\n",
       "      <td>1.000000</td>\n",
       "      <td>9382.033000</td>\n",
       "    </tr>\n",
       "    <tr>\n",
       "      <th>75%</th>\n",
       "      <td>51.000000</td>\n",
       "      <td>34.693750</td>\n",
       "      <td>2.000000</td>\n",
       "      <td>16639.912515</td>\n",
       "    </tr>\n",
       "    <tr>\n",
       "      <th>max</th>\n",
       "      <td>64.000000</td>\n",
       "      <td>53.130000</td>\n",
       "      <td>5.000000</td>\n",
       "      <td>63770.428010</td>\n",
       "    </tr>\n",
       "  </tbody>\n",
       "</table>\n",
       "</div>"
      ],
      "text/plain": [
       "               age          bmi     children       charges\n",
       "count  1338.000000  1338.000000  1338.000000   1338.000000\n",
       "mean     39.207025    30.663397     1.094918  13270.422265\n",
       "std      14.049960     6.098187     1.205493  12110.011237\n",
       "min      18.000000    15.960000     0.000000   1121.873900\n",
       "25%      27.000000    26.296250     0.000000   4740.287150\n",
       "50%      39.000000    30.400000     1.000000   9382.033000\n",
       "75%      51.000000    34.693750     2.000000  16639.912515\n",
       "max      64.000000    53.130000     5.000000  63770.428010"
      ]
     },
     "execution_count": 54,
     "metadata": {},
     "output_type": "execute_result"
    }
   ],
   "source": [
    "data.describe()"
   ]
  },
  {
   "cell_type": "markdown",
   "metadata": {},
   "source": [
    "# 4. Save your dataset via Python variables\n",
    "\n",
    "Save the features of your dataset (the columns) from insurance.csv by storing them in variables that can be used for analysis. As you consider what types of variables to use and how many you plan to create, think ahead about the parameters you wish to investigate and how your organization will impact this analysis."
   ]
  },
  {
   "cell_type": "markdown",
   "metadata": {},
   "source": [
    "# 5. Build out analysis functions or class methods\n",
    "\n",
    "You now have everything you need to begin your analysis. You have organized the information from insurance.csv and have spent some time thinking about what it is you would like to investigate.\n",
    "\n",
    "Now is the time to build out how you perform these investigations. Use the Python fundamentals you have learned so far to accomplish these tasks. There are many different ways you can achieve these analyses. In our hint, we will provide some ideas for how you can use Python to analyze data."
   ]
  },
  {
   "cell_type": "code",
   "execution_count": 55,
   "metadata": {},
   "outputs": [],
   "source": [
    "# borrowed from rj-pal\n",
    "def variable_count(data, variable_key): # data is dataset, variable_key is the column you want to count\n",
    "    count_dict = {}\n",
    "    for i in range(len(data[variable_key])):\n",
    "        if data[variable_key][i] not in count_dict:\n",
    "            count_dict[data[variable_key][i]] = 1\n",
    "        else:\n",
    "            count_dict[data[variable_key][i]] += 1\n",
    "    return count_dict"
   ]
  },
  {
   "cell_type": "code",
   "execution_count": 56,
   "metadata": {},
   "outputs": [],
   "source": [
    "def variable_percentage(data, variable_key):\n",
    "    counts = variable_count(data, variable_key)\n",
    "    total = sum(counts.values())\n",
    "    percentage_dict = {}\n",
    "    for key, value in counts.items():\n",
    "        percentage_dict[key] = round(value / total * 100, 2)\n",
    "    return percentage_dict"
   ]
  },
  {
   "cell_type": "code",
   "execution_count": 57,
   "metadata": {},
   "outputs": [],
   "source": [
    "def get_tuple_list(data, key1, key2):\n",
    "    return list(zip(data[key1], data[key2]))"
   ]
  },
  {
   "cell_type": "markdown",
   "metadata": {},
   "source": [
    "## BMI Analysis"
   ]
  },
  {
   "cell_type": "markdown",
   "metadata": {},
   "source": [
    "### How many underweight, normal weight, overweight and obese people are in the dataset?"
   ]
  },
  {
   "cell_type": "code",
   "execution_count": 58,
   "metadata": {},
   "outputs": [],
   "source": [
    "bmi_groups = { # key is the BMI group, value is the maximal value in the group\n",
    "    \"underweight\": 18.5,\n",
    "    \"healthy weight\": 25,\n",
    "    \"overweight\": 30,\n",
    "    \"obese\": float(\"inf\")\n",
    "}\n",
    "def get_bmi_range(bmi):\n",
    "    for key, value in bmi_groups.items():\n",
    "        if bmi < value:\n",
    "            return key\n",
    "    return \"obese\""
   ]
  },
  {
   "cell_type": "code",
   "execution_count": 59,
   "metadata": {},
   "outputs": [
    {
     "data": {
      "text/html": [
       "<div>\n",
       "<style scoped>\n",
       "    .dataframe tbody tr th:only-of-type {\n",
       "        vertical-align: middle;\n",
       "    }\n",
       "\n",
       "    .dataframe tbody tr th {\n",
       "        vertical-align: top;\n",
       "    }\n",
       "\n",
       "    .dataframe thead th {\n",
       "        text-align: right;\n",
       "    }\n",
       "</style>\n",
       "<table border=\"1\" class=\"dataframe\">\n",
       "  <thead>\n",
       "    <tr style=\"text-align: right;\">\n",
       "      <th></th>\n",
       "      <th>age</th>\n",
       "      <th>sex</th>\n",
       "      <th>bmi</th>\n",
       "      <th>children</th>\n",
       "      <th>smoker</th>\n",
       "      <th>region</th>\n",
       "      <th>charges</th>\n",
       "      <th>bmi range</th>\n",
       "    </tr>\n",
       "  </thead>\n",
       "  <tbody>\n",
       "    <tr>\n",
       "      <th>0</th>\n",
       "      <td>19</td>\n",
       "      <td>female</td>\n",
       "      <td>27.900</td>\n",
       "      <td>0</td>\n",
       "      <td>yes</td>\n",
       "      <td>southwest</td>\n",
       "      <td>16884.92400</td>\n",
       "      <td>overweight</td>\n",
       "    </tr>\n",
       "    <tr>\n",
       "      <th>1</th>\n",
       "      <td>18</td>\n",
       "      <td>male</td>\n",
       "      <td>33.770</td>\n",
       "      <td>1</td>\n",
       "      <td>no</td>\n",
       "      <td>southeast</td>\n",
       "      <td>1725.55230</td>\n",
       "      <td>obese</td>\n",
       "    </tr>\n",
       "    <tr>\n",
       "      <th>2</th>\n",
       "      <td>28</td>\n",
       "      <td>male</td>\n",
       "      <td>33.000</td>\n",
       "      <td>3</td>\n",
       "      <td>no</td>\n",
       "      <td>southeast</td>\n",
       "      <td>4449.46200</td>\n",
       "      <td>obese</td>\n",
       "    </tr>\n",
       "    <tr>\n",
       "      <th>3</th>\n",
       "      <td>33</td>\n",
       "      <td>male</td>\n",
       "      <td>22.705</td>\n",
       "      <td>0</td>\n",
       "      <td>no</td>\n",
       "      <td>northwest</td>\n",
       "      <td>21984.47061</td>\n",
       "      <td>healthy weight</td>\n",
       "    </tr>\n",
       "    <tr>\n",
       "      <th>4</th>\n",
       "      <td>32</td>\n",
       "      <td>male</td>\n",
       "      <td>28.880</td>\n",
       "      <td>0</td>\n",
       "      <td>no</td>\n",
       "      <td>northwest</td>\n",
       "      <td>3866.85520</td>\n",
       "      <td>overweight</td>\n",
       "    </tr>\n",
       "  </tbody>\n",
       "</table>\n",
       "</div>"
      ],
      "text/plain": [
       "   age     sex     bmi  children smoker     region      charges  \\\n",
       "0   19  female  27.900         0    yes  southwest  16884.92400   \n",
       "1   18    male  33.770         1     no  southeast   1725.55230   \n",
       "2   28    male  33.000         3     no  southeast   4449.46200   \n",
       "3   33    male  22.705         0     no  northwest  21984.47061   \n",
       "4   32    male  28.880         0     no  northwest   3866.85520   \n",
       "\n",
       "        bmi range  \n",
       "0      overweight  \n",
       "1           obese  \n",
       "2           obese  \n",
       "3  healthy weight  \n",
       "4      overweight  "
      ]
     },
     "execution_count": 59,
     "metadata": {},
     "output_type": "execute_result"
    }
   ],
   "source": [
    "# Add BMI range column to the dataset\n",
    "data[\"bmi range\"] = [get_bmi_range(bmi) for bmi in data[\"bmi\"]]\n",
    "data.head()"
   ]
  },
  {
   "cell_type": "code",
   "execution_count": 60,
   "metadata": {},
   "outputs": [
    {
     "data": {
      "text/plain": [
       "{'overweight': 386, 'obese': 707, 'healthy weight': 225, 'underweight': 20}"
      ]
     },
     "execution_count": 60,
     "metadata": {},
     "output_type": "execute_result"
    }
   ],
   "source": [
    "bmi_range_count = variable_count(data, \"bmi range\")\n",
    "bmi_range_count"
   ]
  },
  {
   "cell_type": "code",
   "execution_count": 61,
   "metadata": {},
   "outputs": [
    {
     "data": {
      "text/plain": [
       "{'underweight': 20, 'healthy weight': 225, 'overweight': 386, 'obese': 707}"
      ]
     },
     "execution_count": 61,
     "metadata": {},
     "output_type": "execute_result"
    }
   ],
   "source": [
    "# tesing variable_count using list method .count()\n",
    "bmi_range_count = {}\n",
    "bmi_ranges = data[\"bmi range\"].values.tolist()\n",
    "for bmi_group in bmi_groups.keys():\n",
    "    bmi_range_count[bmi_group] = bmi_ranges.count(bmi_group)\n",
    "bmi_range_count"
   ]
  },
  {
   "cell_type": "code",
   "execution_count": 81,
   "metadata": {},
   "outputs": [
    {
     "name": "stdout",
     "output_type": "stream",
     "text": [
      "Counter({'obese': 707, 'overweight': 386, 'healthy weight': 225, 'underweight': 20})\n"
     ]
    }
   ],
   "source": [
    "# alternative using Counter from collections:\n",
    "from collections import Counter\n",
    "bmi_range_counts = Counter(bmi_ranges)\n",
    "print(bmi_range_counts)"
   ]
  },
  {
   "cell_type": "code",
   "execution_count": 62,
   "metadata": {},
   "outputs": [
    {
     "data": {
      "text/plain": [
       "{'overweight': 28.85,\n",
       " 'obese': 52.84,\n",
       " 'healthy weight': 16.82,\n",
       " 'underweight': 1.49}"
      ]
     },
     "execution_count": 62,
     "metadata": {},
     "output_type": "execute_result"
    }
   ],
   "source": [
    "bmi_range_percentage = variable_percentage(data, \"bmi range\")\n",
    "bmi_range_percentage"
   ]
  },
  {
   "cell_type": "markdown",
   "metadata": {},
   "source": [
    "### BMI vs. age - What is BMI distribution for different age groups? Does it increase with age?"
   ]
  },
  {
   "cell_type": "code",
   "execution_count": 63,
   "metadata": {},
   "outputs": [
    {
     "data": {
      "text/plain": [
       "18"
      ]
     },
     "execution_count": 63,
     "metadata": {},
     "output_type": "execute_result"
    }
   ],
   "source": [
    "min(data.age)"
   ]
  },
  {
   "cell_type": "code",
   "execution_count": 64,
   "metadata": {},
   "outputs": [
    {
     "data": {
      "text/plain": [
       "64"
      ]
     },
     "execution_count": 64,
     "metadata": {},
     "output_type": "execute_result"
    }
   ],
   "source": [
    "max(data.age)"
   ]
  },
  {
   "cell_type": "code",
   "execution_count": 65,
   "metadata": {},
   "outputs": [
    {
     "data": {
      "text/plain": [
       "[25, 35, 45, 55, 65]"
      ]
     },
     "execution_count": 65,
     "metadata": {},
     "output_type": "execute_result"
    }
   ],
   "source": [
    "age_groups = [age for age in range(25, 66, 10)]\n",
    "age_groups                                    "
   ]
  },
  {
   "cell_type": "code",
   "execution_count": 66,
   "metadata": {},
   "outputs": [],
   "source": [
    "def values_by_age(data, age_groups, feature):\n",
    "    age_group_to_values = {}\n",
    "    # initialize the lists:\n",
    "    for age_lim in age_groups:\n",
    "        age_group_to_values[\"<\" + str(age_lim)] = []\n",
    "    # fill the lists:\n",
    "    for age, value in get_tuple_list(data, \"age\", feature):\n",
    "        for age_lim in age_groups:\n",
    "            if age < age_lim:\n",
    "                age_group_to_values[\"<\" + str(age_lim)].append(value)\n",
    "                break\n",
    "    return age_group_to_values"
   ]
  },
  {
   "cell_type": "code",
   "execution_count": 67,
   "metadata": {},
   "outputs": [],
   "source": [
    "def mean(l):\n",
    "    return sum(l) / len(l)"
   ]
  },
  {
   "cell_type": "code",
   "execution_count": 74,
   "metadata": {},
   "outputs": [
    {
     "name": "stdout",
     "output_type": "stream",
     "text": [
      "For age group <25, BMI ranges between 15.96 and 53.13, mean BMI is 30.04\n",
      "For age group <35, BMI ranges between 17.2 and 46.53, mean BMI is 30.06\n",
      "For age group <45, BMI ranges between 16.82 and 47.6, mean BMI is 30.4\n",
      "For age group <55, BMI ranges between 18.05 and 48.07, mean BMI is 31.15\n",
      "For age group <65, BMI ranges between 18.34 and 49.06, mean BMI is 31.76\n"
     ]
    }
   ],
   "source": [
    "# Find what BMI values fall into the 5 age groups:\n",
    "age_group_to_bmi = values_by_age(data, age_groups, \"bmi\")\n",
    "            \n",
    "for age_group, bmi_list in age_group_to_bmi.items():\n",
    "    print(f\"For age group {age_group}, BMI ranges between {round(min(bmi_list), 2)} and {round(max(bmi_list), 2)}, mean BMI is {round(mean(bmi_list), 2)}\")"
   ]
  },
  {
   "cell_type": "markdown",
   "metadata": {},
   "source": [
    "### BMI vs. sex - What is BMI distribution for males and for females? Which sex is more predisposed to obesity?"
   ]
  },
  {
   "cell_type": "code",
   "execution_count": 89,
   "metadata": {},
   "outputs": [],
   "source": [
    "def values_by_feature(data, feature1, feature2):\n",
    "    feature1_by_feature2 = {}\n",
    "    for feature1, feature2 in get_tuple_list(data, feature1, feature2):\n",
    "        if feature2 not in feature1_by_feature2:\n",
    "            feature1_by_feature2[feature2] = [feature1]\n",
    "        else:\n",
    "            feature1_by_feature2[feature2].append(feature1)\n",
    "    return feature1_by_feature2"
   ]
  },
  {
   "cell_type": "code",
   "execution_count": 90,
   "metadata": {},
   "outputs": [
    {
     "name": "stdout",
     "output_type": "stream",
     "text": [
      "For females, BMI ranges between 16.82 and 48.07, mean BMI is 30.38\n",
      "For males, BMI ranges between 15.96 and 53.13, mean BMI is 30.94\n"
     ]
    }
   ],
   "source": [
    "# Subdivide the BMI by sex:\n",
    "bmi_by_sex = values_by_feature(data, \"bmi\", \"sex\")\n",
    "for sex, bmi_list in bmi_by_sex.items():\n",
    "    print(f\"For {sex}s, BMI ranges between {round(min(bmi_list), 2)} and {round(max(bmi_list), 2)}, mean BMI is {round(mean(bmi_list), 2)}\")"
   ]
  },
  {
   "cell_type": "markdown",
   "metadata": {},
   "source": [
    "### BMI vs. smoker - Do smokers have a higher BMI than non-smokers?"
   ]
  },
  {
   "cell_type": "code",
   "execution_count": 91,
   "metadata": {},
   "outputs": [
    {
     "name": "stdout",
     "output_type": "stream",
     "text": [
      "For smokers, BMI ranges between 17.2 and 52.58, mean BMI is 30.71\n",
      "For non-smokers, BMI ranges between 15.96 and 53.13, mean BMI is 30.65\n"
     ]
    }
   ],
   "source": [
    "# Subdivide the BMI by smoker:\n",
    "bmi_by_smoker = values_by_feature(data, \"bmi\", \"smoker\")\n",
    "for smoker, bmi_list in bmi_by_smoker.items():\n",
    "    if smoker == \"yes\":\n",
    "        print(f\"For smokers, BMI ranges between {round(min(bmi_list), 2)} and {round(max(bmi_list), 2)}, mean BMI is {round(mean(bmi_list), 2)}\")\n",
    "    else: \n",
    "        print(f\"For non-smokers, BMI ranges between {round(min(bmi_list), 2)} and {round(max(bmi_list), 2)}, mean BMI is {round(mean(bmi_list), 2)}\")"
   ]
  },
  {
   "cell_type": "markdown",
   "metadata": {},
   "source": [
    "### Conclusions\n",
    "* According to this dataset, over a half of US adult popolation is obese, over a quarter are overweight, only ~17% are in a healthy weight range and ~1.5% are underweight, according to the commonly used BMI ranges (https://www.nhs.uk/common-health-questions/lifestyle/what-is-the-body-mass-index-bmi/, https://www.cdc.gov/healthyweight/assessing/bmi/adult_bmi/index.html).\n",
    "* As expected, mean BMI increases with age, but not substantially. It is interesting that younger people (< 25 years) despite having the lowest mean BMI (30.04) tend to be more underweight (minimal BMI 15.96) or obese (maximal BMI 53.13), that is the spread is higher.\n",
    "* Male population has a higher BMI spread than female population (15.96 - 53.13 vs. 16.82 - 48.07) with a slightly higher mean (30.94 vs. 30.38).\n",
    "* Smokers do not have a substantially higher mean BMI than non-smokers (30.71 vs. 30.65)."
   ]
  },
  {
   "cell_type": "markdown",
   "metadata": {},
   "source": [
    "# 6. Project Extensions\n",
    "\n",
    "You’re welcome to expand your analysis beyond what you have already done! Some potential extra features to add to your portfolio project are the following:\n",
    "\n",
    "* Organize your findings into dictionaries, lists, or another convenient datatype.\n",
    "* Make predictions about what features are the most influential for an individual’s medical insurance charges based on your analysis.\n",
    "* Explore areas where the data may include bias and how that would impact potential use cases.\n",
    "\n",
    "Congrats on completing your portfolio project!\n"
   ]
  },
  {
   "cell_type": "code",
   "execution_count": null,
   "metadata": {},
   "outputs": [],
   "source": []
  }
 ],
 "metadata": {
  "kernelspec": {
   "display_name": "Python 3 (ipykernel)",
   "language": "python",
   "name": "python3"
  },
  "language_info": {
   "codemirror_mode": {
    "name": "ipython",
    "version": 3
   },
   "file_extension": ".py",
   "mimetype": "text/x-python",
   "name": "python",
   "nbconvert_exporter": "python",
   "pygments_lexer": "ipython3",
   "version": "3.10.12"
  }
 },
 "nbformat": 4,
 "nbformat_minor": 4
}

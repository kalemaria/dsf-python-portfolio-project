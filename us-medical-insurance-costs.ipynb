{
 "cells": [
  {
   "cell_type": "markdown",
   "metadata": {},
   "source": [
    "# U.S. Medical Insurance Costs"
   ]
  },
  {
   "cell_type": "code",
   "execution_count": 1,
   "metadata": {},
   "outputs": [],
   "source": [
    "import csv"
   ]
  },
  {
   "cell_type": "code",
   "execution_count": 2,
   "metadata": {},
   "outputs": [],
   "source": [
    "dataset = {}\n",
    "# insurance_info = Insurance() -> This was a part of my test of my class\n",
    "with open(\"insurance.csv\", newline='') as insurance_csv:\n",
    "    dict_reader = csv.DictReader(insurance_csv) # converts the lines of our CSV file to Python dictionaries\n",
    "    column_names = dict_reader.fieldnames\n",
    "    for column_name in column_names:\n",
    "        dataset[column_name] = []\n",
    "    for row in dict_reader:\n",
    "        # row is an ordered dictionary entry containing a tuple with the column heading and the data for each observation\n",
    "        # key is the column heading and the value is data at each observation\n",
    "        for key, value in row.items():\n",
    "            dataset[key].append(value)\n",
    "# The next two lines also part of the Class Test\n",
    "#         insurance_person = Person(**row)\n",
    "#         insurance_info.add_person(insurance_person)            "
   ]
  },
  {
   "cell_type": "markdown",
   "metadata": {},
   "source": [
    "#### Creates a count of any column from the data set"
   ]
  },
  {
   "cell_type": "code",
   "execution_count": 3,
   "metadata": {},
   "outputs": [],
   "source": [
    "def variable_count(data, variable_key): # data is dataset, variable_key is the column you want to count\n",
    "    count_dict = {}\n",
    "    for i in range(len(data[variable_key])):\n",
    "        if dataset[variable_key][i] not in count_dict:\n",
    "            count_dict[dataset[variable_key][i]] = 1\n",
    "        else:\n",
    "            count_dict[dataset[variable_key][i]] += 1\n",
    "    return count_dict"
   ]
  },
  {
   "cell_type": "code",
   "execution_count": 4,
   "metadata": {},
   "outputs": [
    {
     "data": {
      "text/plain": [
       "{'yes': 274, 'no': 1064}"
      ]
     },
     "execution_count": 4,
     "metadata": {},
     "output_type": "execute_result"
    }
   ],
   "source": [
    "smoker = variable_count(dataset, 'smoker')\n",
    "smoker"
   ]
  },
  {
   "cell_type": "code",
   "execution_count": 5,
   "metadata": {},
   "outputs": [
    {
     "data": {
      "text/plain": [
       "{'0': 574, '1': 324, '3': 157, '2': 240, '5': 18, '4': 25}"
      ]
     },
     "execution_count": 5,
     "metadata": {},
     "output_type": "execute_result"
    }
   ],
   "source": [
    "child = variable_count(dataset, 'children')\n",
    "child"
   ]
  },
  {
   "cell_type": "markdown",
   "metadata": {},
   "source": [
    "#### Zip the two lists into a tuple and use the information to count the number of people who smoke who have 0 to 5 children"
   ]
  },
  {
   "cell_type": "code",
   "execution_count": 6,
   "metadata": {},
   "outputs": [
    {
     "data": {
      "text/plain": [
       "{'0': 115, '1': 61, '2': 55, '3': 39, '4': 3, '5': 1}"
      ]
     },
     "execution_count": 6,
     "metadata": {},
     "output_type": "execute_result"
    }
   ],
   "source": [
    "# Make this a function like the one above if possible\n",
    "data = list(zip(dataset['children'], dataset['smoker']))\n",
    "child_smoker = {}\n",
    "for row in data:\n",
    "    if row[1] == 'yes':\n",
    "        if row[0] not in child_smoker:\n",
    "            child_smoker[row[0]] = 1\n",
    "        else:\n",
    "            child_smoker[row[0]] += 1\n",
    "child_smoker"
   ]
  },
  {
   "cell_type": "code",
   "execution_count": 7,
   "metadata": {},
   "outputs": [
    {
     "data": {
      "text/plain": [
       "574"
      ]
     },
     "execution_count": 7,
     "metadata": {},
     "output_type": "execute_result"
    }
   ],
   "source": [
    "child[str(0)]"
   ]
  },
  {
   "cell_type": "code",
   "execution_count": 8,
   "metadata": {},
   "outputs": [
    {
     "name": "stdout",
     "output_type": "stream",
     "text": [
      "Percentage of people with 0 children who smoke is:  20.03%\n",
      "Percentage of people with 1 children who smoke is:  18.83%\n",
      "Percentage of people with 2 children who smoke is:  22.92%\n",
      "Percentage of people with 3 children who smoke is:  24.84%\n",
      "Percentage of people with 4 children who smoke is:  12.00%\n",
      "Percentage of people with 5 children who smoke is:  5.56%\n"
     ]
    }
   ],
   "source": [
    "for i in range(6):\n",
    "    percentage = (child_smoker[str(i)]/child[str(i)])\n",
    "    print(f\"Percentage of people with {i} children who smoke is: {percentage: 0.2%}\")"
   ]
  },
  {
   "cell_type": "markdown",
   "metadata": {},
   "source": [
    "#### Some Testing on making Classes - not sure if this is useful"
   ]
  },
  {
   "cell_type": "code",
   "execution_count": 9,
   "metadata": {},
   "outputs": [],
   "source": [
    "class Person:\n",
    "    def __init__(self, age, sex, bmi, children, smoker, region, charges):\n",
    "        self.age = age\n",
    "        self.sex = sex\n",
    "        self.bmi = bmi\n",
    "        self.children = children\n",
    "        self.smoker = smoker\n",
    "        self.region = region\n",
    "        self.charges = charges\n",
    "        \n",
    "    def __str__(self):\n",
    "        return f\"Age: {self.age}\\nSex: {self.sex}\\nBMI: {self.bmi}\\nChildren: {self.children}\\nSmoker: {self.smoker}\\nRegion: {self.region}\\nCharges: {self.charges}\"\n",
    "\n",
    "\n",
    "class Insurance:\n",
    "\n",
    "    def __init__(self):\n",
    "        self.insurance_list =[]\n",
    "        self.age_list = []\n",
    "        self.sex_list = []\n",
    "        self.bmi_list = []\n",
    "        self.children_list = []\n",
    "        self.smoker_list = []\n",
    "        self.region_list = []\n",
    "        self.charges_list = []\n",
    "\n",
    "    def add_person(self, Person):\n",
    "        self.insurance_list.append(Person)\n",
    "        self.age_list.append(Person.age)\n",
    "        self.sex_list.append(Person.sex)\n",
    "        self.bmi_list.append(Person.bmi)\n",
    "        self.children_list.append(Person.children)\n",
    "        self.smoker_list.append(Person.smoker)\n",
    "        self.region_list.append(Person.region)\n",
    "        self.charges_list.append(Person.charges)\n"
   ]
  },
  {
   "cell_type": "code",
   "execution_count": 10,
   "metadata": {},
   "outputs": [
    {
     "name": "stdout",
     "output_type": "stream",
     "text": [
      "Age: 30\n",
      "Sex: male\n",
      "BMI: 25.5\n",
      "Children: 2\n",
      "Smoker: False\n",
      "Region: north\n",
      "Charges: 5000.0\n"
     ]
    }
   ],
   "source": [
    "# Test the Person Class\n",
    "person_data = {\n",
    "    \"age\": 30,\n",
    "    \"sex\": \"male\",\n",
    "    \"bmi\": 25.5,\n",
    "    \"children\": 2,\n",
    "    \"smoker\": False,\n",
    "    \"region\": \"north\",\n",
    "    \"charges\": 5000.0\n",
    "}\n",
    "\n",
    "person_insurance = Person(**person_data)\n",
    "\n",
    "print(\"Age:\", person_insurance.age)\n",
    "print(\"Sex:\", person_insurance.sex)\n",
    "print(\"BMI:\", person_insurance.bmi)\n",
    "print(\"Children:\", person_insurance.children)\n",
    "print(\"Smoker:\", person_insurance.smoker)\n",
    "print(\"Region:\", person_insurance.region)\n",
    "print(\"Charges:\", person_insurance.charges)"
   ]
  },
  {
   "cell_type": "code",
   "execution_count": null,
   "metadata": {},
   "outputs": [],
   "source": []
  }
 ],
 "metadata": {
  "kernelspec": {
   "display_name": "the_way",
   "language": "python",
   "name": "the_way"
  },
  "language_info": {
   "codemirror_mode": {
    "name": "ipython",
    "version": 3
   },
   "file_extension": ".py",
   "mimetype": "text/x-python",
   "name": "python",
   "nbconvert_exporter": "python",
   "pygments_lexer": "ipython3",
   "version": "3.7.11"
  }
 },
 "nbformat": 4,
 "nbformat_minor": 4
}
